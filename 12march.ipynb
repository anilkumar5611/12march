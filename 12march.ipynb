{
 "cells": [
  {
   "cell_type": "code",
   "execution_count": 1,
   "id": "6022a8d4",
   "metadata": {},
   "outputs": [
    {
     "name": "stdout",
     "output_type": "stream",
     "text": [
      "95% Confidence Interval: (48.210805856282846, 51.789194143717154)\n"
     ]
    }
   ],
   "source": [
    "#Q1: Calculate the 95% confidence interval for a sample of data with a mean of 50 and a standard deviation of 5 using Python.\n",
    "\n",
    "import scipy.stats as stats\n",
    "\n",
    "mean = 50\n",
    "std_dev = 5\n",
    "sample_size = 30  # Replace with your actual sample size\n",
    "\n",
    "confidence_interval = stats.norm.interval(0.95, loc=mean, scale=std_dev / (sample_size**0.5))\n",
    "print(f\"95% Confidence Interval: {confidence_interval}\")\n",
    "#Interpretation: We are 95% confident that the true population mean falls within the calculated interval.\n",
    "\n",
    "\n",
    "\n",
    "\n"
   ]
  },
  {
   "cell_type": "code",
   "execution_count": null,
   "id": "33525671",
   "metadata": {},
   "outputs": [],
   "source": [
    "#Q2: Chi-square goodness of fit test for M&M color distribution.\n",
    "import numpy as np\n",
    "\n",
    "observed_counts = np.array([actual_blue_count, actual_orange_count, actual_green_count, actual_yellow_count, actual_red_count, actual_brown_count])\n",
    "expected_counts = np.array([expected_blue_count, expected_orange_count, expected_green_count, expected_yellow_count, expected_red_count, expected_brown_count])\n",
    "\n",
    "chi2_stat, p_value = stats.chisquare(f_obs=observed_counts, f_exp=expected_counts)\n",
    "print(f\"Chi-square Statistic: {chi2_stat}\")\n",
    "print(f\"P-value: {p_value}\")\n",
    "\n",
    "# Compare p-value with significance level (e.g., 0.05) to make a decision.\n",
    "#Interpretation: If the p-value is less than 0.05, we reject the null hypothesis, indicating a significant difference between observed and expected distributions.\n",
    "\n",
    "\n",
    "\n"
   ]
  },
  {
   "cell_type": "code",
   "execution_count": null,
   "id": "b2698f7d",
   "metadata": {},
   "outputs": [],
   "source": [
    "#Q3: Chi-square test for contingency table.\n",
    "\n",
    "\n",
    "# Construct your contingency table\n",
    "contingency_table = [[20,15],\n",
    "                     [10,25],\n",
    "                     [15,20]]\n",
    "\n",
    "chi2_stat, p_value, dof, expected = stats.chi2_contingency(contingency_table)\n",
    "print(f\"Chi-square Statistic: {chi2_stat}\")\n",
    "print(f\"P-value: {p_value}\")\n",
    "\n",
    "# Compare p-value with significance level (e.g., 0.05) to make a decision.\n",
    "#Interpretation: If the p-value is less than 0.05, we reject the null hypothesis, suggesting a significant association between the variables.\n",
    "\n",
    "\n"
   ]
  },
  {
   "cell_type": "code",
   "execution_count": null,
   "id": "e36ace44",
   "metadata": {},
   "outputs": [],
   "source": [
    "#Q4: Calculate the 95% confidence interval for the true proportion of individuals who smoke.\n",
    "\n",
    "import statsmodels.api as sm\n",
    "\n",
    "sample_size = 500\n",
    "smoker_count = 60\n",
    "\n",
    "conf_interval = sm.stats.proportion_confint(smoker_count, sample_size, alpha=0.05)\n",
    "print(f\"95% Confidence Interval: {conf_interval}\")\n",
    "#Interpretation: We are 95% confident that the true proportion of smokers in the population falls within the calculated interval.\n",
    "\n"
   ]
  },
  {
   "cell_type": "code",
   "execution_count": null,
   "id": "ee2320aa",
   "metadata": {},
   "outputs": [],
   "source": [
    "Q5: Calculate the 90% confidence interval for a sample with a mean of 75 and a standard deviation of 12.\n",
    "python\n",
    "Copy code\n",
    "mean = 75\n",
    "std_dev = 12\n",
    "sample_size = 50  # Replace with your actual sample size\n",
    "\n",
    "confidence_interval = stats.norm.interval(0.90, loc=mean, scale=std_dev / (sample_size**0.5))\n",
    "print(f\"90% Confidence Interval: {confidence_interval}\")\n",
    "Interpretation: We are 90% confident that the true population mean falls within the calculated interval.\n",
    "\n"
   ]
  },
  {
   "cell_type": "code",
   "execution_count": null,
   "id": "1f0677d7",
   "metadata": {},
   "outputs": [],
   "source": [
    "#Q6: Plot the chi-square distribution with 10 degrees of freedom.\n",
    "\n",
    "import matplotlib.pyplot as plt\n",
    "import numpy as np\n",
    "\n",
    "degrees_of_freedom = 10\n",
    "x = np.linspace(0, 30, 1000)\n",
    "y = stats.chi2.pdf(x, degrees_of_freedom)\n",
    "\n",
    "plt.plot(x, y, label=f'Chi-square Distribution (df={degrees_of_freedom})')\n",
    "plt.fill_between(x, y, where=(x >= 15), color='red', alpha=0.3, label='Area for chi-square stat of 15')\n",
    "plt.xlabel('Chi-square Statistic')\n",
    "plt.ylabel('Probability Density')\n",
    "plt.legend()\n",
    "plt.show()\n",
    "#Interpretation: The shaded area represents the probability of obtaining a chi-square statistic of 15 or greater.\n",
    "\n"
   ]
  },
  {
   "cell_type": "code",
   "execution_count": null,
   "id": "dcad7176",
   "metadata": {},
   "outputs": [],
   "source": [
    "Q7: Calculate a 99% confidence interval for the true proportion of people who prefer Coke.\n",
    "python\n",
    "Copy code\n",
    "import statsmodels.api as sm\n",
    "\n",
    "total_people = 1000\n",
    "coke_preference = 520\n",
    "\n",
    "conf_interval = sm.stats.proportion_confint(coke_preference, total_people, alpha=0.01)\n",
    "print(f\"99% Confidence Interval: {conf_interval}\")\n",
    "Interpretation: We are 99% confident that the true proportion of people who prefer Coke falls within the calculated interval.\n",
    "\n"
   ]
  },
  {
   "cell_type": "code",
   "execution_count": null,
   "id": "50a767ff",
   "metadata": {},
   "outputs": [],
   "source": [
    "#Q8: Chi-square goodness of fit test for coin bias.\n",
    "\n",
    "observed_tails = 45\n",
    "expected_tails = 50  # For a fair coin, assuming 50 tails out of 100 flips\n",
    "\n",
    "chi2_stat, p_value = stats.chisquare(f_obs=observed_tails, f_exp=expected_tails)\n",
    "print(f\"Chi-square Statistic: {chi2_stat}\")\n",
    "print(f\"P-value: {p_value}\")\n",
    "\n",
    "# Compare p-value with significance level (e.g., 0.05) to make a decision.\n",
    "#Interpretation: If the p-value is less than 0.05, we reject the null hypothesis, suggesting a significant difference between observed and expected frequencies.\n",
    "\n"
   ]
  },
  {
   "cell_type": "code",
   "execution_count": null,
   "id": "6742b5aa",
   "metadata": {},
   "outputs": [],
   "source": [
    "Q9: Chi-square test for independence for smoking and lung cancer.\n",
    "python\n",
    "Copy code\n",
    "from scipy.stats import chi2_contingency\n",
    "\n",
    "# Construct your contingency table\n",
    "contingency_table = [[20, 15],\n",
    "                     [10, 25],\n",
    "                     [15, 20]]\n",
    "\n",
    "chi2_stat, p_value, dof, expected = chi2_contingency(contingency_table)\n",
    "print(f\"Chi-square Statistic: {chi2_stat}\")\n",
    "print(f\"P-value: {p_value}\")\n",
    "\n",
    "# Compare p-value with significance level (e.g., 0.05) to make a decision.\n",
    "Interpretation: If the p-value is less than 0.05, we reject the null hypothesis, indicating a significant association between smoking status and lung cancer diagnosis.\n",
    "\n"
   ]
  },
  {
   "cell_type": "code",
   "execution_count": null,
   "id": "6116471d",
   "metadata": {},
   "outputs": [],
   "source": [
    "#Q10: Chi-square test for independence for chocolate preference and country.\n",
    "\n",
    "from scipy.stats import chi2_contingency\n",
    "\n",
    "# Construct your contingency table\n",
    "contingency_table = [[obs_US_milk, obs_US_dark, obs_US_white],\n",
    "                     [obs_UK_milk, obs_UK_dark, obs_UK_white]]\n",
    "\n",
    "chi2_stat, p_value, dof, expected = chi2_contingency(contingency_table)\n",
    "print(f\"Chi-square Statistic: {chi2_stat}\")\n",
    "print(f\"P-value: {p_value}\")\n",
    "\n",
    "# Compare p-value with significance level (e.g., 0.01) to make a decision.\n",
    "#Interpretation: If the p-value is less than 0.01, we reject the null hypothesis, indicating a significant association between chocolate preference and country.\n",
    "\n"
   ]
  },
  {
   "cell_type": "code",
   "execution_count": null,
   "id": "61fac82c",
   "metadata": {},
   "outputs": [],
   "source": [
    "#Q11: Hypothesis test for population mean.\n",
    "from scipy.stats import ttest_1samp\n",
    "\n",
    "sample_mean = 72\n",
    "sample_std_dev = 10\n",
    "sample_size = 30\n",
    "\n",
    "t_stat, p_value = ttest_1samp([your_data], popmean"
   ]
  }
 ],
 "metadata": {
  "kernelspec": {
   "display_name": "Python 3 (ipykernel)",
   "language": "python",
   "name": "python3"
  },
  "language_info": {
   "codemirror_mode": {
    "name": "ipython",
    "version": 3
   },
   "file_extension": ".py",
   "mimetype": "text/x-python",
   "name": "python",
   "nbconvert_exporter": "python",
   "pygments_lexer": "ipython3",
   "version": "3.11.2"
  }
 },
 "nbformat": 4,
 "nbformat_minor": 5
}
